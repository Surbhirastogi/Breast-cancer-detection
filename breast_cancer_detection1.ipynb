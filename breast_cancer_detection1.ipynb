{
 "cells": [
  {
   "cell_type": "markdown",
   "id": "88a8f73c",
   "metadata": {},
   "source": [
    "# Breast cancer detection (a deep learning model)"
   ]
  },
  {
   "cell_type": "markdown",
   "id": "7cce756f",
   "metadata": {},
   "source": [
    "###### loading dataset from sklearn library\n",
    " "
   ]
  },
  {
   "cell_type": "code",
   "execution_count": 29,
   "id": "28d1d16b",
   "metadata": {},
   "outputs": [],
   "source": [
    "import pandas as pd\n",
    "import numpy as np\n",
    "\n",
    "from sklearn.datasets import load_breast_cancer\n",
    "from sklearn.preprocessing import StandardScaler\n",
    "\n",
    "from keras.models import Sequential\n",
    "from keras.layers import Dense"
   ]
  },
  {
   "cell_type": "markdown",
   "id": "95c5bb0c",
   "metadata": {},
   "source": [
    "###### storing dataset into a dataset variable"
   ]
  },
  {
   "cell_type": "code",
   "execution_count": 2,
   "id": "e75cfd50",
   "metadata": {},
   "outputs": [],
   "source": [
    "data = load_breast_cancer()"
   ]
  },
  {
   "cell_type": "code",
   "execution_count": 3,
   "id": "fa5b2ef9",
   "metadata": {},
   "outputs": [
    {
     "data": {
      "text/plain": [
       "dict_keys(['data', 'target', 'frame', 'target_names', 'DESCR', 'feature_names', 'filename'])"
      ]
     },
     "execution_count": 3,
     "metadata": {},
     "output_type": "execute_result"
    }
   ],
   "source": [
    "data.keys()                                                   # attributes of dataset(metadata)"
   ]
  },
  {
   "cell_type": "code",
   "execution_count": 4,
   "id": "372b6e64",
   "metadata": {},
   "outputs": [
    {
     "name": "stdout",
     "output_type": "stream",
     "text": [
      ".. _breast_cancer_dataset:\n",
      "\n",
      "Breast cancer wisconsin (diagnostic) dataset\n",
      "--------------------------------------------\n",
      "\n",
      "**Data Set Characteristics:**\n",
      "\n",
      "    :Number of Instances: 569\n",
      "\n",
      "    :Number of Attributes: 30 numeric, predictive attributes and the class\n",
      "\n",
      "    :Attribute Information:\n",
      "        - radius (mean of distances from center to points on the perimeter)\n",
      "        - texture (standard deviation of gray-scale values)\n",
      "        - perimeter\n",
      "        - area\n",
      "        - smoothness (local variation in radius lengths)\n",
      "        - compactness (perimeter^2 / area - 1.0)\n",
      "        - concavity (severity of concave portions of the contour)\n",
      "        - concave points (number of concave portions of the contour)\n",
      "        - symmetry\n",
      "        - fractal dimension (\"coastline approximation\" - 1)\n",
      "\n",
      "        The mean, standard error, and \"worst\" or largest (mean of the three\n",
      "        worst/largest values) of these features were computed for each image,\n",
      "        resulting in 30 features.  For instance, field 0 is Mean Radius, field\n",
      "        10 is Radius SE, field 20 is Worst Radius.\n",
      "\n",
      "        - class:\n",
      "                - WDBC-Malignant\n",
      "                - WDBC-Benign\n",
      "\n",
      "    :Summary Statistics:\n",
      "\n",
      "    ===================================== ====== ======\n",
      "                                           Min    Max\n",
      "    ===================================== ====== ======\n",
      "    radius (mean):                        6.981  28.11\n",
      "    texture (mean):                       9.71   39.28\n",
      "    perimeter (mean):                     43.79  188.5\n",
      "    area (mean):                          143.5  2501.0\n",
      "    smoothness (mean):                    0.053  0.163\n",
      "    compactness (mean):                   0.019  0.345\n",
      "    concavity (mean):                     0.0    0.427\n",
      "    concave points (mean):                0.0    0.201\n",
      "    symmetry (mean):                      0.106  0.304\n",
      "    fractal dimension (mean):             0.05   0.097\n",
      "    radius (standard error):              0.112  2.873\n",
      "    texture (standard error):             0.36   4.885\n",
      "    perimeter (standard error):           0.757  21.98\n",
      "    area (standard error):                6.802  542.2\n",
      "    smoothness (standard error):          0.002  0.031\n",
      "    compactness (standard error):         0.002  0.135\n",
      "    concavity (standard error):           0.0    0.396\n",
      "    concave points (standard error):      0.0    0.053\n",
      "    symmetry (standard error):            0.008  0.079\n",
      "    fractal dimension (standard error):   0.001  0.03\n",
      "    radius (worst):                       7.93   36.04\n",
      "    texture (worst):                      12.02  49.54\n",
      "    perimeter (worst):                    50.41  251.2\n",
      "    area (worst):                         185.2  4254.0\n",
      "    smoothness (worst):                   0.071  0.223\n",
      "    compactness (worst):                  0.027  1.058\n",
      "    concavity (worst):                    0.0    1.252\n",
      "    concave points (worst):               0.0    0.291\n",
      "    symmetry (worst):                     0.156  0.664\n",
      "    fractal dimension (worst):            0.055  0.208\n",
      "    ===================================== ====== ======\n",
      "\n",
      "    :Missing Attribute Values: None\n",
      "\n",
      "    :Class Distribution: 212 - Malignant, 357 - Benign\n",
      "\n",
      "    :Creator:  Dr. William H. Wolberg, W. Nick Street, Olvi L. Mangasarian\n",
      "\n",
      "    :Donor: Nick Street\n",
      "\n",
      "    :Date: November, 1995\n",
      "\n",
      "This is a copy of UCI ML Breast Cancer Wisconsin (Diagnostic) datasets.\n",
      "https://goo.gl/U2Uwz2\n",
      "\n",
      "Features are computed from a digitized image of a fine needle\n",
      "aspirate (FNA) of a breast mass.  They describe\n",
      "characteristics of the cell nuclei present in the image.\n",
      "\n",
      "Separating plane described above was obtained using\n",
      "Multisurface Method-Tree (MSM-T) [K. P. Bennett, \"Decision Tree\n",
      "Construction Via Linear Programming.\" Proceedings of the 4th\n",
      "Midwest Artificial Intelligence and Cognitive Science Society,\n",
      "pp. 97-101, 1992], a classification method which uses linear\n",
      "programming to construct a decision tree.  Relevant features\n",
      "were selected using an exhaustive search in the space of 1-4\n",
      "features and 1-3 separating planes.\n",
      "\n",
      "The actual linear program used to obtain the separating plane\n",
      "in the 3-dimensional space is that described in:\n",
      "[K. P. Bennett and O. L. Mangasarian: \"Robust Linear\n",
      "Programming Discrimination of Two Linearly Inseparable Sets\",\n",
      "Optimization Methods and Software 1, 1992, 23-34].\n",
      "\n",
      "This database is also available through the UW CS ftp server:\n",
      "\n",
      "ftp ftp.cs.wisc.edu\n",
      "cd math-prog/cpo-dataset/machine-learn/WDBC/\n",
      "\n",
      ".. topic:: References\n",
      "\n",
      "   - W.N. Street, W.H. Wolberg and O.L. Mangasarian. Nuclear feature extraction \n",
      "     for breast tumor diagnosis. IS&T/SPIE 1993 International Symposium on \n",
      "     Electronic Imaging: Science and Technology, volume 1905, pages 861-870,\n",
      "     San Jose, CA, 1993.\n",
      "   - O.L. Mangasarian, W.N. Street and W.H. Wolberg. Breast cancer diagnosis and \n",
      "     prognosis via linear programming. Operations Research, 43(4), pages 570-577, \n",
      "     July-August 1995.\n",
      "   - W.H. Wolberg, W.N. Street, and O.L. Mangasarian. Machine learning techniques\n",
      "     to diagnose breast cancer from fine-needle aspirates. Cancer Letters 77 (1994) \n",
      "     163-171.\n"
     ]
    }
   ],
   "source": [
    "print(data['DESCR'])                                          # gives whole description about the data"
   ]
  },
  {
   "cell_type": "code",
   "execution_count": 5,
   "id": "624f8213",
   "metadata": {},
   "outputs": [
    {
     "data": {
      "text/plain": [
       "(569, 30)"
      ]
     },
     "execution_count": 5,
     "metadata": {},
     "output_type": "execute_result"
    }
   ],
   "source": [
    "data['data'].shape                                         # here,569 are tumours and 30 are features of each tumour\n",
    "                                                                  "
   ]
  },
  {
   "cell_type": "code",
   "execution_count": 6,
   "id": "cf89fd3c",
   "metadata": {},
   "outputs": [
    {
     "data": {
      "text/plain": [
       "array(['mean radius', 'mean texture', 'mean perimeter', 'mean area',\n",
       "       'mean smoothness', 'mean compactness', 'mean concavity',\n",
       "       'mean concave points', 'mean symmetry', 'mean fractal dimension',\n",
       "       'radius error', 'texture error', 'perimeter error', 'area error',\n",
       "       'smoothness error', 'compactness error', 'concavity error',\n",
       "       'concave points error', 'symmetry error',\n",
       "       'fractal dimension error', 'worst radius', 'worst texture',\n",
       "       'worst perimeter', 'worst area', 'worst smoothness',\n",
       "       'worst compactness', 'worst concavity', 'worst concave points',\n",
       "       'worst symmetry', 'worst fractal dimension'], dtype='<U23')"
      ]
     },
     "execution_count": 6,
     "metadata": {},
     "output_type": "execute_result"
    }
   ],
   "source": [
    "data['feature_names']                                      # all the feature names for each tumour"
   ]
  },
  {
   "cell_type": "code",
   "execution_count": 7,
   "id": "4daf4e48",
   "metadata": {},
   "outputs": [
    {
     "data": {
      "text/plain": [
       "array([1.799e+01, 1.038e+01, 1.228e+02, 1.001e+03, 1.184e-01, 2.776e-01,\n",
       "       3.001e-01, 1.471e-01, 2.419e-01, 7.871e-02, 1.095e+00, 9.053e-01,\n",
       "       8.589e+00, 1.534e+02, 6.399e-03, 4.904e-02, 5.373e-02, 1.587e-02,\n",
       "       3.003e-02, 6.193e-03, 2.538e+01, 1.733e+01, 1.846e+02, 2.019e+03,\n",
       "       1.622e-01, 6.656e-01, 7.119e-01, 2.654e-01, 4.601e-01, 1.189e-01])"
      ]
     },
     "execution_count": 7,
     "metadata": {},
     "output_type": "execute_result"
    }
   ],
   "source": [
    "data['data'][0]                                          # these are the  30 values for first tumour"
   ]
  },
  {
   "cell_type": "code",
   "execution_count": 8,
   "id": "76b594b3",
   "metadata": {},
   "outputs": [
    {
     "name": "stdout",
     "output_type": "stream",
     "text": [
      "mean radius : 17.99\n",
      "mean texture : 10.38\n",
      "mean perimeter : 122.8\n",
      "mean area : 1001.0\n",
      "mean smoothness : 0.1184\n",
      "mean compactness : 0.2776\n",
      "mean concavity : 0.3001\n",
      "mean concave points : 0.1471\n",
      "mean symmetry : 0.2419\n",
      "mean fractal dimension : 0.07871\n",
      "radius error : 1.095\n",
      "texture error : 0.9053\n",
      "perimeter error : 8.589\n",
      "area error : 153.4\n",
      "smoothness error : 0.006399\n",
      "compactness error : 0.04904\n",
      "concavity error : 0.05373\n",
      "concave points error : 0.01587\n",
      "symmetry error : 0.03003\n",
      "fractal dimension error : 0.006193\n",
      "worst radius : 25.38\n",
      "worst texture : 17.33\n",
      "worst perimeter : 184.6\n",
      "worst area : 2019.0\n",
      "worst smoothness : 0.1622\n",
      "worst compactness : 0.6656\n",
      "worst concavity : 0.7119\n",
      "worst concave points : 0.2654\n",
      "worst symmetry : 0.4601\n",
      "worst fractal dimension : 0.1189\n"
     ]
    }
   ],
   "source": [
    "j = 0\n",
    "for i in data['feature_names']:                          #starting a loop for printing the values corresponding to a particular feature of first tumour\n",
    "  print(i,\":\",data['data'][0][j])\n",
    "  j+=1"
   ]
  },
  {
   "cell_type": "code",
   "execution_count": 9,
   "id": "ad7c633b",
   "metadata": {},
   "outputs": [],
   "source": [
    "feature = data['data']                               "
   ]
  },
  {
   "cell_type": "code",
   "execution_count": 10,
   "id": "702c88b9",
   "metadata": {},
   "outputs": [],
   "source": [
    "label = data['target']\n"
   ]
  },
  {
   "cell_type": "code",
   "execution_count": 11,
   "id": "3b87b454",
   "metadata": {},
   "outputs": [
    {
     "data": {
      "text/plain": [
       "array(['malignant', 'benign'], dtype='<U9')"
      ]
     },
     "execution_count": 11,
     "metadata": {},
     "output_type": "execute_result"
    }
   ],
   "source": [
    "data['target_names']                                    # target names refer to the two types of tumour"
   ]
  },
  {
   "cell_type": "code",
   "execution_count": 12,
   "id": "167560d3",
   "metadata": {},
   "outputs": [
    {
     "data": {
      "text/plain": [
       "(569, 30)"
      ]
     },
     "execution_count": 12,
     "metadata": {},
     "output_type": "execute_result"
    }
   ],
   "source": [
    "feature.shape                                           "
   ]
  },
  {
   "cell_type": "code",
   "execution_count": 13,
   "id": "dd7eebed",
   "metadata": {},
   "outputs": [
    {
     "data": {
      "text/plain": [
       "(569,)"
      ]
     },
     "execution_count": 13,
     "metadata": {},
     "output_type": "execute_result"
    }
   ],
   "source": [
    "label.shape                                             # it refers to 1 label for each 569 tumours that is 0/1"
   ]
  },
  {
   "cell_type": "markdown",
   "id": "29eb5c24",
   "metadata": {},
   "source": [
    "calling a function  StandardScaler() as, each parameter has its own range we need to rearrange every row into a particular range \n",
    "This was basically done for preprocessing the data\n"
   ]
  },
  {
   "cell_type": "code",
   "execution_count": 14,
   "id": "73ab312c",
   "metadata": {},
   "outputs": [],
   "source": [
    "scale = StandardScaler()\n",
    "\n",
    "feature = scale.fit_transform(feature)"
   ]
  },
  {
   "cell_type": "code",
   "execution_count": 15,
   "id": "7c1babe2",
   "metadata": {},
   "outputs": [
    {
     "name": "stdout",
     "output_type": "stream",
     "text": [
      "mean radius : 1.0970639814699807\n",
      "mean texture : -2.0733350146975935\n",
      "mean perimeter : 1.2699336881399383\n",
      "mean area : 0.9843749048031144\n",
      "mean smoothness : 1.568466329243428\n",
      "mean compactness : 3.2835146709868264\n",
      "mean concavity : 2.652873983743168\n",
      "mean concave points : 2.532475216403245\n",
      "mean symmetry : 2.2175150059646405\n",
      "mean fractal dimension : 2.255746885296269\n",
      "radius error : 2.4897339267376193\n",
      "texture error : -0.5652650590684639\n",
      "perimeter error : 2.833030865855184\n",
      "area error : 2.4875775569611043\n",
      "smoothness error : -0.21400164666895383\n",
      "compactness error : 1.3168615683959484\n",
      "concavity error : 0.72402615808036\n",
      "concave points error : 0.6608199414286064\n",
      "symmetry error : 1.1487566671861758\n",
      "fractal dimension error : 0.9070830809973359\n",
      "worst radius : 1.8866896251792757\n",
      "worst texture : -1.3592934737640827\n",
      "worst perimeter : 2.3036006236225606\n",
      "worst area : 2.0012374893299207\n",
      "worst smoothness : 1.3076862710715387\n",
      "worst compactness : 2.616665023512603\n",
      "worst concavity : 2.1095263465722556\n",
      "worst concave points : 2.296076127561788\n",
      "worst symmetry : 2.750622244124955\n",
      "worst fractal dimension : 1.9370146123781782\n"
     ]
    }
   ],
   "source": [
    "j = 0\n",
    "for i in data['feature_names']:\n",
    "  print(i,\":\",feature[0][j])\n",
    "  j+=1"
   ]
  },
  {
   "cell_type": "code",
   "execution_count": 16,
   "id": "abd34121",
   "metadata": {},
   "outputs": [
    {
     "name": "stdout",
     "output_type": "stream",
     "text": [
      "[-1.80840125  1.22179204 -1.81438851 -1.34778924 -3.11208479 -1.15075248\n",
      " -1.11487284 -1.26181958 -0.8200699  -0.56103238 -0.07027874  0.3830925\n",
      " -0.15744905 -0.46615196  0.04934236 -1.16351619 -1.05750068 -1.91344745\n",
      "  0.75282996 -0.382754   -1.41089258  0.76418957 -1.43273495 -1.07581292\n",
      " -1.85901852 -1.2075525  -1.30583065 -1.74506282 -0.04813821 -0.75120669]\n",
      "benign 1\n"
     ]
    }
   ],
   "source": [
    "print(feature[568])\n",
    "print(data['target_names'][label[568]],label[568])"
   ]
  },
  {
   "cell_type": "code",
   "execution_count": 17,
   "id": "9fc79676",
   "metadata": {},
   "outputs": [],
   "source": [
    "df_frt = pd.DataFrame(feature , columns = data['feature_names'])           # display of all the tumors along with thier feature values into a tabular form using pandas library\n",
    "df_lbl = pd.DataFrame(label , columns = ['label'])\n",
    "df = pd.concat([df_frt, df_lbl], axis=1)\n",
    "df = df.sample(frac = 1)\n",
    "\n",
    "feature = df.values[ : , : 30]\n",
    "label = df.values[ : ,30: ]"
   ]
  },
  {
   "cell_type": "code",
   "execution_count": 18,
   "id": "d1d640fe",
   "metadata": {},
   "outputs": [
    {
     "data": {
      "text/html": [
       "<div>\n",
       "<style scoped>\n",
       "    .dataframe tbody tr th:only-of-type {\n",
       "        vertical-align: middle;\n",
       "    }\n",
       "\n",
       "    .dataframe tbody tr th {\n",
       "        vertical-align: top;\n",
       "    }\n",
       "\n",
       "    .dataframe thead th {\n",
       "        text-align: right;\n",
       "    }\n",
       "</style>\n",
       "<table border=\"1\" class=\"dataframe\">\n",
       "  <thead>\n",
       "    <tr style=\"text-align: right;\">\n",
       "      <th></th>\n",
       "      <th>mean radius</th>\n",
       "      <th>mean texture</th>\n",
       "      <th>mean perimeter</th>\n",
       "      <th>mean area</th>\n",
       "      <th>mean smoothness</th>\n",
       "      <th>mean compactness</th>\n",
       "      <th>mean concavity</th>\n",
       "      <th>mean concave points</th>\n",
       "      <th>mean symmetry</th>\n",
       "      <th>mean fractal dimension</th>\n",
       "      <th>...</th>\n",
       "      <th>worst texture</th>\n",
       "      <th>worst perimeter</th>\n",
       "      <th>worst area</th>\n",
       "      <th>worst smoothness</th>\n",
       "      <th>worst compactness</th>\n",
       "      <th>worst concavity</th>\n",
       "      <th>worst concave points</th>\n",
       "      <th>worst symmetry</th>\n",
       "      <th>worst fractal dimension</th>\n",
       "      <th>label</th>\n",
       "    </tr>\n",
       "  </thead>\n",
       "  <tbody>\n",
       "    <tr>\n",
       "      <th>22</th>\n",
       "      <td>0.344426</td>\n",
       "      <td>-1.170433</td>\n",
       "      <td>0.433773</td>\n",
       "      <td>0.140814</td>\n",
       "      <td>0.778530</td>\n",
       "      <td>2.068725</td>\n",
       "      <td>1.492795</td>\n",
       "      <td>1.254641</td>\n",
       "      <td>2.589911</td>\n",
       "      <td>1.066377</td>\n",
       "      <td>...</td>\n",
       "      <td>-1.074317</td>\n",
       "      <td>0.531343</td>\n",
       "      <td>0.176348</td>\n",
       "      <td>0.290694</td>\n",
       "      <td>2.170095</td>\n",
       "      <td>1.719008</td>\n",
       "      <td>1.898662</td>\n",
       "      <td>2.857396</td>\n",
       "      <td>0.859731</td>\n",
       "      <td>0</td>\n",
       "    </tr>\n",
       "    <tr>\n",
       "      <th>63</th>\n",
       "      <td>-1.407089</td>\n",
       "      <td>-1.263516</td>\n",
       "      <td>-1.349763</td>\n",
       "      <td>-1.120545</td>\n",
       "      <td>-1.362838</td>\n",
       "      <td>-0.318972</td>\n",
       "      <td>-0.363081</td>\n",
       "      <td>-0.699511</td>\n",
       "      <td>1.932741</td>\n",
       "      <td>0.968562</td>\n",
       "      <td>...</td>\n",
       "      <td>-1.049890</td>\n",
       "      <td>-1.241212</td>\n",
       "      <td>-1.002860</td>\n",
       "      <td>-1.490797</td>\n",
       "      <td>-0.550038</td>\n",
       "      <td>-0.635617</td>\n",
       "      <td>-0.970486</td>\n",
       "      <td>0.616770</td>\n",
       "      <td>0.052877</td>\n",
       "      <td>1</td>\n",
       "    </tr>\n",
       "    <tr>\n",
       "      <th>197</th>\n",
       "      <td>1.122625</td>\n",
       "      <td>0.593484</td>\n",
       "      <td>1.047507</td>\n",
       "      <td>1.049789</td>\n",
       "      <td>-1.611917</td>\n",
       "      <td>-0.339629</td>\n",
       "      <td>0.269940</td>\n",
       "      <td>0.228557</td>\n",
       "      <td>-0.151947</td>\n",
       "      <td>-1.332209</td>\n",
       "      <td>...</td>\n",
       "      <td>-0.159135</td>\n",
       "      <td>0.650487</td>\n",
       "      <td>0.610729</td>\n",
       "      <td>-1.935293</td>\n",
       "      <td>-0.368739</td>\n",
       "      <td>-0.089658</td>\n",
       "      <td>-0.347109</td>\n",
       "      <td>-0.860264</td>\n",
       "      <td>-1.017757</td>\n",
       "      <td>0</td>\n",
       "    </tr>\n",
       "    <tr>\n",
       "      <th>227</th>\n",
       "      <td>0.247862</td>\n",
       "      <td>-0.879550</td>\n",
       "      <td>0.225762</td>\n",
       "      <td>0.084216</td>\n",
       "      <td>-0.900263</td>\n",
       "      <td>0.099666</td>\n",
       "      <td>-0.298172</td>\n",
       "      <td>-0.286807</td>\n",
       "      <td>0.253307</td>\n",
       "      <td>-0.528427</td>\n",
       "      <td>...</td>\n",
       "      <td>-1.036863</td>\n",
       "      <td>0.206678</td>\n",
       "      <td>-0.127243</td>\n",
       "      <td>-0.822738</td>\n",
       "      <td>0.689798</td>\n",
       "      <td>0.326287</td>\n",
       "      <td>0.354685</td>\n",
       "      <td>0.086138</td>\n",
       "      <td>-0.018055</td>\n",
       "      <td>1</td>\n",
       "    </tr>\n",
       "    <tr>\n",
       "      <th>102</th>\n",
       "      <td>-0.553058</td>\n",
       "      <td>0.286311</td>\n",
       "      <td>-0.607516</td>\n",
       "      <td>-0.557982</td>\n",
       "      <td>-1.155035</td>\n",
       "      <td>-1.212155</td>\n",
       "      <td>-0.815688</td>\n",
       "      <td>-0.805266</td>\n",
       "      <td>-0.265127</td>\n",
       "      <td>-0.854476</td>\n",
       "      <td>...</td>\n",
       "      <td>1.166414</td>\n",
       "      <td>-0.675579</td>\n",
       "      <td>-0.585004</td>\n",
       "      <td>-0.879725</td>\n",
       "      <td>-1.053734</td>\n",
       "      <td>-0.756514</td>\n",
       "      <td>-0.613574</td>\n",
       "      <td>-0.334485</td>\n",
       "      <td>-0.840426</td>\n",
       "      <td>1</td>\n",
       "    </tr>\n",
       "    <tr>\n",
       "      <th>...</th>\n",
       "      <td>...</td>\n",
       "      <td>...</td>\n",
       "      <td>...</td>\n",
       "      <td>...</td>\n",
       "      <td>...</td>\n",
       "      <td>...</td>\n",
       "      <td>...</td>\n",
       "      <td>...</td>\n",
       "      <td>...</td>\n",
       "      <td>...</td>\n",
       "      <td>...</td>\n",
       "      <td>...</td>\n",
       "      <td>...</td>\n",
       "      <td>...</td>\n",
       "      <td>...</td>\n",
       "      <td>...</td>\n",
       "      <td>...</td>\n",
       "      <td>...</td>\n",
       "      <td>...</td>\n",
       "      <td>...</td>\n",
       "      <td>...</td>\n",
       "    </tr>\n",
       "    <tr>\n",
       "      <th>134</th>\n",
       "      <td>1.227711</td>\n",
       "      <td>0.609773</td>\n",
       "      <td>1.162839</td>\n",
       "      <td>1.194838</td>\n",
       "      <td>-0.146621</td>\n",
       "      <td>-0.137417</td>\n",
       "      <td>0.332715</td>\n",
       "      <td>0.504294</td>\n",
       "      <td>-0.436721</td>\n",
       "      <td>-0.783596</td>\n",
       "      <td>...</td>\n",
       "      <td>0.930290</td>\n",
       "      <td>1.141953</td>\n",
       "      <td>1.247093</td>\n",
       "      <td>0.619463</td>\n",
       "      <td>-0.170263</td>\n",
       "      <td>0.596387</td>\n",
       "      <td>0.354685</td>\n",
       "      <td>0.336894</td>\n",
       "      <td>-0.434782</td>\n",
       "      <td>0</td>\n",
       "    </tr>\n",
       "    <tr>\n",
       "      <th>341</th>\n",
       "      <td>-1.284111</td>\n",
       "      <td>-0.570050</td>\n",
       "      <td>-1.249259</td>\n",
       "      <td>-1.064801</td>\n",
       "      <td>-0.821981</td>\n",
       "      <td>-0.228573</td>\n",
       "      <td>-0.057493</td>\n",
       "      <td>-0.670622</td>\n",
       "      <td>0.819204</td>\n",
       "      <td>1.198214</td>\n",
       "      <td>...</td>\n",
       "      <td>-0.424570</td>\n",
       "      <td>-1.072624</td>\n",
       "      <td>-0.926390</td>\n",
       "      <td>-0.397530</td>\n",
       "      <td>0.555572</td>\n",
       "      <td>0.776774</td>\n",
       "      <td>-0.508663</td>\n",
       "      <td>0.131435</td>\n",
       "      <td>0.792678</td>\n",
       "      <td>1</td>\n",
       "    </tr>\n",
       "    <tr>\n",
       "      <th>105</th>\n",
       "      <td>-0.288925</td>\n",
       "      <td>-0.867914</td>\n",
       "      <td>-0.196026</td>\n",
       "      <td>-0.354629</td>\n",
       "      <td>3.091407</td>\n",
       "      <td>1.367520</td>\n",
       "      <td>1.485262</td>\n",
       "      <td>1.214661</td>\n",
       "      <td>0.413949</td>\n",
       "      <td>2.001996</td>\n",
       "      <td>...</td>\n",
       "      <td>-0.533675</td>\n",
       "      <td>-0.025652</td>\n",
       "      <td>-0.093843</td>\n",
       "      <td>2.359748</td>\n",
       "      <td>0.990056</td>\n",
       "      <td>1.753070</td>\n",
       "      <td>1.278939</td>\n",
       "      <td>0.398369</td>\n",
       "      <td>3.133996</td>\n",
       "      <td>0</td>\n",
       "    </tr>\n",
       "    <tr>\n",
       "      <th>226</th>\n",
       "      <td>-1.047243</td>\n",
       "      <td>-0.891185</td>\n",
       "      <td>-1.044132</td>\n",
       "      <td>-0.925156</td>\n",
       "      <td>0.636199</td>\n",
       "      <td>-0.513983</td>\n",
       "      <td>-1.031470</td>\n",
       "      <td>-0.948165</td>\n",
       "      <td>-0.086230</td>\n",
       "      <td>0.241332</td>\n",
       "      <td>...</td>\n",
       "      <td>-0.957069</td>\n",
       "      <td>-1.006500</td>\n",
       "      <td>-0.852910</td>\n",
       "      <td>0.075898</td>\n",
       "      <td>-0.884012</td>\n",
       "      <td>-1.179224</td>\n",
       "      <td>-1.065348</td>\n",
       "      <td>-0.462290</td>\n",
       "      <td>-0.069592</td>\n",
       "      <td>1</td>\n",
       "    </tr>\n",
       "    <tr>\n",
       "      <th>433</th>\n",
       "      <td>1.332796</td>\n",
       "      <td>0.623736</td>\n",
       "      <td>1.307005</td>\n",
       "      <td>1.294382</td>\n",
       "      <td>0.387120</td>\n",
       "      <td>0.654944</td>\n",
       "      <td>0.886390</td>\n",
       "      <td>0.993606</td>\n",
       "      <td>0.479666</td>\n",
       "      <td>-0.209467</td>\n",
       "      <td>...</td>\n",
       "      <td>0.855382</td>\n",
       "      <td>1.133017</td>\n",
       "      <td>1.269946</td>\n",
       "      <td>0.290694</td>\n",
       "      <td>0.585471</td>\n",
       "      <td>0.570961</td>\n",
       "      <td>0.855640</td>\n",
       "      <td>0.171880</td>\n",
       "      <td>-0.044655</td>\n",
       "      <td>0</td>\n",
       "    </tr>\n",
       "  </tbody>\n",
       "</table>\n",
       "<p>569 rows × 31 columns</p>\n",
       "</div>"
      ],
      "text/plain": [
       "     mean radius  mean texture  mean perimeter  mean area  mean smoothness  \\\n",
       "22      0.344426     -1.170433        0.433773   0.140814         0.778530   \n",
       "63     -1.407089     -1.263516       -1.349763  -1.120545        -1.362838   \n",
       "197     1.122625      0.593484        1.047507   1.049789        -1.611917   \n",
       "227     0.247862     -0.879550        0.225762   0.084216        -0.900263   \n",
       "102    -0.553058      0.286311       -0.607516  -0.557982        -1.155035   \n",
       "..           ...           ...             ...        ...              ...   \n",
       "134     1.227711      0.609773        1.162839   1.194838        -0.146621   \n",
       "341    -1.284111     -0.570050       -1.249259  -1.064801        -0.821981   \n",
       "105    -0.288925     -0.867914       -0.196026  -0.354629         3.091407   \n",
       "226    -1.047243     -0.891185       -1.044132  -0.925156         0.636199   \n",
       "433     1.332796      0.623736        1.307005   1.294382         0.387120   \n",
       "\n",
       "     mean compactness  mean concavity  mean concave points  mean symmetry  \\\n",
       "22           2.068725        1.492795             1.254641       2.589911   \n",
       "63          -0.318972       -0.363081            -0.699511       1.932741   \n",
       "197         -0.339629        0.269940             0.228557      -0.151947   \n",
       "227          0.099666       -0.298172            -0.286807       0.253307   \n",
       "102         -1.212155       -0.815688            -0.805266      -0.265127   \n",
       "..                ...             ...                  ...            ...   \n",
       "134         -0.137417        0.332715             0.504294      -0.436721   \n",
       "341         -0.228573       -0.057493            -0.670622       0.819204   \n",
       "105          1.367520        1.485262             1.214661       0.413949   \n",
       "226         -0.513983       -1.031470            -0.948165      -0.086230   \n",
       "433          0.654944        0.886390             0.993606       0.479666   \n",
       "\n",
       "     mean fractal dimension  ...  worst texture  worst perimeter  worst area  \\\n",
       "22                 1.066377  ...      -1.074317         0.531343    0.176348   \n",
       "63                 0.968562  ...      -1.049890        -1.241212   -1.002860   \n",
       "197               -1.332209  ...      -0.159135         0.650487    0.610729   \n",
       "227               -0.528427  ...      -1.036863         0.206678   -0.127243   \n",
       "102               -0.854476  ...       1.166414        -0.675579   -0.585004   \n",
       "..                      ...  ...            ...              ...         ...   \n",
       "134               -0.783596  ...       0.930290         1.141953    1.247093   \n",
       "341                1.198214  ...      -0.424570        -1.072624   -0.926390   \n",
       "105                2.001996  ...      -0.533675        -0.025652   -0.093843   \n",
       "226                0.241332  ...      -0.957069        -1.006500   -0.852910   \n",
       "433               -0.209467  ...       0.855382         1.133017    1.269946   \n",
       "\n",
       "     worst smoothness  worst compactness  worst concavity  \\\n",
       "22           0.290694           2.170095         1.719008   \n",
       "63          -1.490797          -0.550038        -0.635617   \n",
       "197         -1.935293          -0.368739        -0.089658   \n",
       "227         -0.822738           0.689798         0.326287   \n",
       "102         -0.879725          -1.053734        -0.756514   \n",
       "..                ...                ...              ...   \n",
       "134          0.619463          -0.170263         0.596387   \n",
       "341         -0.397530           0.555572         0.776774   \n",
       "105          2.359748           0.990056         1.753070   \n",
       "226          0.075898          -0.884012        -1.179224   \n",
       "433          0.290694           0.585471         0.570961   \n",
       "\n",
       "     worst concave points  worst symmetry  worst fractal dimension  label  \n",
       "22               1.898662        2.857396                 0.859731      0  \n",
       "63              -0.970486        0.616770                 0.052877      1  \n",
       "197             -0.347109       -0.860264                -1.017757      0  \n",
       "227              0.354685        0.086138                -0.018055      1  \n",
       "102             -0.613574       -0.334485                -0.840426      1  \n",
       "..                    ...             ...                      ...    ...  \n",
       "134              0.354685        0.336894                -0.434782      0  \n",
       "341             -0.508663        0.131435                 0.792678      1  \n",
       "105              1.278939        0.398369                 3.133996      0  \n",
       "226             -1.065348       -0.462290                -0.069592      1  \n",
       "433              0.855640        0.171880                -0.044655      0  \n",
       "\n",
       "[569 rows x 31 columns]"
      ]
     },
     "execution_count": 18,
     "metadata": {},
     "output_type": "execute_result"
    }
   ],
   "source": [
    "df"
   ]
  },
  {
   "cell_type": "markdown",
   "id": "97bbd14f",
   "metadata": {},
   "source": [
    "###### Initializing our neural network, calling sequential function from tensorflow lib to add layers in our neural network .\n",
    "it will basically initialize an empty stack inside which we will create the model."
   ]
  },
  {
   "cell_type": "code",
   "execution_count": 19,
   "id": "17b2e52b",
   "metadata": {},
   "outputs": [],
   "source": [
    "model = Sequential()                            \n",
    "\n",
    "model.add(Dense(32, activation = 'relu', input_dim = 30))\n",
    "model.add(Dense(64, activation = 'relu'))\n",
    "model.add(Dense(128, activation = 'relu'))\n",
    "model.add(Dense(64, activation = 'relu'))                 \n",
    "model.add(Dense(32, activation = 'relu'))\n",
    "model.add(Dense(1, activation = 'sigmoid'))\n",
    "\n",
    "model.compile( loss = 'binary_crossentropy' , optimizer = 'adam' , metrics = ['accuracy'])"
   ]
  },
  {
   "cell_type": "code",
   "execution_count": 20,
   "id": "d602f5d6",
   "metadata": {},
   "outputs": [],
   "source": [
    "#500 Training\n",
    "X_train = feature[:500]                        #deviding the dataset for training ,testing and validation of the data.\n",
    "y_train = label[:500]                          #here, first 500 data points are used for training and making of the model.\n",
    "                                               # 35 for validating and 34 for testing the accuracy of model.\n",
    "#35 Validation                             \n",
    "X_val = feature[500:535]\n",
    "y_val = label[500:535]\n",
    "\n",
    "#34 Testing\n",
    "X_test = feature[535:]\n",
    "y_test = label[535:]"
   ]
  },
  {
   "cell_type": "markdown",
   "id": "3e5a0241",
   "metadata": {},
   "source": [
    "###### Trianing the model by passing training feaures ,labels  and epochs."
   ]
  },
  {
   "cell_type": "code",
   "execution_count": 21,
   "id": "e27a2c2b",
   "metadata": {},
   "outputs": [
    {
     "name": "stdout",
     "output_type": "stream",
     "text": [
      "Epoch 1/10\n",
      "100/100 [==============================] - 3s 6ms/step - loss: 0.2268 - accuracy: 0.9360 - val_loss: 0.2274 - val_accuracy: 0.9429\n",
      "Epoch 2/10\n",
      "100/100 [==============================] - 0s 3ms/step - loss: 0.0831 - accuracy: 0.9700 - val_loss: 0.2657 - val_accuracy: 0.9714\n",
      "Epoch 3/10\n",
      "100/100 [==============================] - 0s 3ms/step - loss: 0.0692 - accuracy: 0.9740 - val_loss: 0.2274 - val_accuracy: 0.9714\n",
      "Epoch 4/10\n",
      "100/100 [==============================] - 0s 3ms/step - loss: 0.0840 - accuracy: 0.9820 - val_loss: 0.2558 - val_accuracy: 0.9429\n",
      "Epoch 5/10\n",
      "100/100 [==============================] - 0s 3ms/step - loss: 0.0389 - accuracy: 0.9920 - val_loss: 0.2149 - val_accuracy: 0.9714\n",
      "Epoch 6/10\n",
      "100/100 [==============================] - 0s 3ms/step - loss: 0.0386 - accuracy: 0.9880 - val_loss: 0.2604 - val_accuracy: 0.9714\n",
      "Epoch 7/10\n",
      "100/100 [==============================] - 0s 3ms/step - loss: 0.0259 - accuracy: 0.9920 - val_loss: 0.2391 - val_accuracy: 0.9714\n",
      "Epoch 8/10\n",
      "100/100 [==============================] - 0s 3ms/step - loss: 0.0230 - accuracy: 0.9940 - val_loss: 0.2542 - val_accuracy: 0.9429\n",
      "Epoch 9/10\n",
      "100/100 [==============================] - 0s 4ms/step - loss: 0.0170 - accuracy: 0.9960 - val_loss: 0.2697 - val_accuracy: 0.9714\n",
      "Epoch 10/10\n",
      "100/100 [==============================] - 0s 4ms/step - loss: 0.0152 - accuracy: 0.9940 - val_loss: 0.3932 - val_accuracy: 0.9714\n"
     ]
    },
    {
     "data": {
      "text/plain": [
       "<keras.callbacks.History at 0x1f104745e80>"
      ]
     },
     "execution_count": 21,
     "metadata": {},
     "output_type": "execute_result"
    }
   ],
   "source": [
    "model.fit( X_train , y_train, epochs = 10, batch_size = 5, validation_data = (X_val, y_val))"
   ]
  },
  {
   "cell_type": "markdown",
   "id": "ccd9d350",
   "metadata": {},
   "source": [
    "###### Evaluate model on test data"
   ]
  },
  {
   "cell_type": "markdown",
   "id": "72a6acee",
   "metadata": {},
   "source": [
    "###### "
   ]
  },
  {
   "cell_type": "code",
   "execution_count": 22,
   "id": "6e77d522",
   "metadata": {},
   "outputs": [
    {
     "name": "stdout",
     "output_type": "stream",
     "text": [
      "2/2 [==============================] - 0s 0s/step - loss: 0.0021 - accuracy: 1.0000\n"
     ]
    },
    {
     "data": {
      "text/plain": [
       "[0.002132657216861844, 1.0]"
      ]
     },
     "execution_count": 22,
     "metadata": {},
     "output_type": "execute_result"
    }
   ],
   "source": [
    "model.evaluate(X_test , y_test)"
   ]
  },
  {
   "cell_type": "code",
   "execution_count": 23,
   "id": "abb3aa42",
   "metadata": {},
   "outputs": [
    {
     "name": "stdout",
     "output_type": "stream",
     "text": [
      "2/2 [==============================] - 0s 0s/step - loss: 0.3932 - accuracy: 0.9714\n"
     ]
    },
    {
     "data": {
      "text/plain": [
       "[0.39319464564323425, 0.9714285731315613]"
      ]
     },
     "execution_count": 23,
     "metadata": {},
     "output_type": "execute_result"
    }
   ],
   "source": [
    "model.evaluate(X_val , y_val)"
   ]
  },
  {
   "cell_type": "code",
   "execution_count": 24,
   "id": "aec6f893",
   "metadata": {},
   "outputs": [
    {
     "name": "stdout",
     "output_type": "stream",
     "text": [
      "-Malignant\n",
      "*Melignant\n",
      "-----------\n",
      "-Malignant\n",
      "*Melignant\n",
      "-----------\n",
      "-Malignant\n",
      "*Melignant\n",
      "-----------\n",
      "-Malignant\n",
      "*Melignant\n",
      "-----------\n",
      "-Malignant\n",
      "*Melignant\n",
      "-----------\n",
      "-Malignant\n",
      "*Melignant\n",
      "-----------\n",
      "-Malignant\n",
      "*Melignant\n",
      "-----------\n",
      "-Benign\n",
      "*Banign\n",
      "-----------\n",
      "-Benign\n",
      "*Banign\n",
      "-----------\n",
      "-Benign\n",
      "*Banign\n",
      "-----------\n",
      "-Malignant\n",
      "*Melignant\n",
      "-----------\n",
      "-Benign\n",
      "*Banign\n",
      "-----------\n",
      "-Malignant\n",
      "*Melignant\n",
      "-----------\n",
      "-Benign\n",
      "*Banign\n",
      "-----------\n",
      "-Benign\n",
      "*Banign\n",
      "-----------\n",
      "-Benign\n",
      "*Banign\n",
      "-----------\n",
      "-Benign\n",
      "*Banign\n",
      "-----------\n",
      "-Benign\n",
      "*Banign\n",
      "-----------\n",
      "-Malignant\n",
      "*Melignant\n",
      "-----------\n",
      "-Malignant\n",
      "*Melignant\n",
      "-----------\n",
      "-Malignant\n",
      "*Melignant\n",
      "-----------\n",
      "-Malignant\n",
      "*Melignant\n",
      "-----------\n",
      "-Benign\n",
      "*Banign\n",
      "-----------\n",
      "-Benign\n",
      "*Banign\n",
      "-----------\n",
      "-Benign\n",
      "*Banign\n",
      "-----------\n",
      "-Malignant\n",
      "*Melignant\n",
      "-----------\n",
      "-Benign\n",
      "*Banign\n",
      "-----------\n",
      "-Malignant\n",
      "*Melignant\n",
      "-----------\n",
      "-Benign\n",
      "*Banign\n",
      "-----------\n",
      "-Malignant\n",
      "*Melignant\n",
      "-----------\n"
     ]
    }
   ],
   "source": [
    "for i in range(30):\n",
    "  sample = X_test[i]\n",
    "  sample = np.reshape(sample, (1,30))\n",
    "\n",
    "  if (model.predict(sample)[0][0] > 0.5):\n",
    "    print(\"-Benign\")\n",
    "  else:\n",
    "    print(\"-Malignant\")\n",
    "\n",
    "  if (y_test[i] == 1):\n",
    "    print(\"*Banign\")\n",
    "  else:\n",
    "    print(\"*Melignant\")\n",
    "  print(\"-----------\")"
   ]
  },
  {
   "cell_type": "code",
   "execution_count": 25,
   "id": "e4340fc0",
   "metadata": {},
   "outputs": [
    {
     "name": "stdout",
     "output_type": "stream",
     "text": [
      "26\n"
     ]
    }
   ],
   "source": [
    "t = 0\n",
    "for i in y_val:\n",
    "  if (i == 1):\n",
    "    t += 1\n",
    "print(t)\n"
   ]
  },
  {
   "cell_type": "code",
   "execution_count": 26,
   "id": "6b6e5eb8",
   "metadata": {},
   "outputs": [
    {
     "name": "stdout",
     "output_type": "stream",
     "text": [
      "16\n"
     ]
    }
   ],
   "source": [
    "t = 0\n",
    "for i in y_test:\n",
    "  if (i == 1):\n",
    "    t += 1\n",
    "\n",
    "print(t)\n"
   ]
  },
  {
   "cell_type": "code",
   "execution_count": 27,
   "id": "5903827a",
   "metadata": {},
   "outputs": [
    {
     "data": {
      "text/plain": [
       "array([-0.18127798, -0.1982743 , -0.174774  , -0.18887995,  0.03394792,\n",
       "       -0.00579729, -0.08361697, -0.08893985,  0.1327551 ,  0.09749728,\n",
       "       -0.0428875 ,  0.00505357, -0.04459933, -0.0652855 ,  0.0673687 ,\n",
       "        0.02715191, -0.00887376,  0.014374  ,  0.09156318,  0.03434159,\n",
       "       -0.16982445, -0.19057245, -0.16512908, -0.17428243,  0.04413658,\n",
       "       -0.01389008, -0.06832226, -0.06348544,  0.0750255 ,  0.00368968])"
      ]
     },
     "execution_count": 27,
     "metadata": {},
     "output_type": "execute_result"
    }
   ],
   "source": [
    "X_test[0] * -.1"
   ]
  },
  {
   "cell_type": "code",
   "execution_count": 28,
   "id": "f856875e",
   "metadata": {},
   "outputs": [
    {
     "data": {
      "text/plain": [
       "0.9942857142857143"
      ]
     },
     "execution_count": 28,
     "metadata": {},
     "output_type": "execute_result"
    }
   ],
   "source": [
    "348/350\n",
    "\n",
    "#347/350\n",
    "\n",
    "#32/35"
   ]
  }
 ],
 "metadata": {
  "kernelspec": {
   "display_name": "Python 3",
   "language": "python",
   "name": "python3"
  },
  "language_info": {
   "codemirror_mode": {
    "name": "ipython",
    "version": 3
   },
   "file_extension": ".py",
   "mimetype": "text/x-python",
   "name": "python",
   "nbconvert_exporter": "python",
   "pygments_lexer": "ipython3",
   "version": "3.8.8"
  }
 },
 "nbformat": 4,
 "nbformat_minor": 5
}
